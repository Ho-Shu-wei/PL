{
  "cells": [
    {
      "cell_type": "code",
      "execution_count": 184,
      "metadata": {
        "id": "3kV-eH7yJtnO"
      },
      "outputs": [],
      "source": [
        "import requests\n",
        "from bs4 import BeautifulSoup\n",
        "import pandas as pd\n",
        "import json"
      ]
    },
    {
      "cell_type": "code",
      "execution_count": 185,
      "metadata": {
        "id": "CNxtzPWYOGAF"
      },
      "outputs": [],
      "source": [
        "url='https://www.stockq.org/market/asia.php'"
      ]
    },
    {
      "cell_type": "code",
      "execution_count": 186,
      "metadata": {
        "colab": {
          "base_uri": "https://localhost:8080/"
        },
        "id": "lGu4aSJfOaFJ",
        "outputId": "3ea2846b-57df-4983-f79c-8ce5c04e1a84"
      },
      "outputs": [
        {
          "output_type": "stream",
          "name": "stdout",
          "text": [
            "https://www.stockq.org/market/asia.php\n"
          ]
        }
      ],
      "source": [
        "print(url)"
      ]
    },
    {
      "cell_type": "code",
      "execution_count": 187,
      "metadata": {
        "id": "83Os7u21OwkP"
      },
      "outputs": [],
      "source": [
        "response =requests.get(url)"
      ]
    },
    {
      "cell_type": "code",
      "execution_count": null,
      "metadata": {
        "id": "AL_g2m-fO_NP"
      },
      "outputs": [],
      "source": [
        "response.text #html_content = response.text"
      ]
    },
    {
      "cell_type": "code",
      "execution_count": 189,
      "metadata": {
        "id": "Ut-vgRtvPOI3"
      },
      "outputs": [],
      "source": [
        "if response.status_code ==200:\n",
        "  soup =BeautifulSoup(response.text, 'html.parser')"
      ]
    },
    {
      "cell_type": "code",
      "execution_count": 190,
      "metadata": {
        "id": "EvmIsvaK18as"
      },
      "outputs": [],
      "source": [
        "table = soup.find(\"table\", {\"class\": \"marketdatatable\"})"
      ]
    },
    {
      "cell_type": "code",
      "execution_count": 191,
      "metadata": {
        "id": "vpUOkUv4YjMF"
      },
      "outputs": [],
      "source": [
        "#for x in soup.find_all('tr', class_=['row1','row2']):\n",
        "  #print(x.text.strip(),\"\")"
      ]
    },
    {
      "cell_type": "code",
      "execution_count": 202,
      "metadata": {
        "id": "erH4twbGg9_C"
      },
      "outputs": [],
      "source": [
        "stock_markets = []\n",
        "indices =[]\n",
        "high_prices = []\n",
        "lowest_prices = []\n",
        "\n",
        "data = {\n",
        "    \"股市\": stock_markets,\n",
        "    \"指數\": indices,\n",
        "    \"最高\": high_prices,\n",
        "    \"最低\": lowest_prices,\n",
        "}\n"
      ]
    },
    {
      "cell_type": "code",
      "execution_count": 203,
      "metadata": {
        "id": "i2Lx2QOdkiMA"
      },
      "outputs": [],
      "source": [
        "#for x in soup.find_all('td',align='left'):   #股市\n",
        "\n",
        "#    name.append(x.text.strip())\n",
        "\n",
        "#print(name)\n",
        "#print(len(name))\n",
        "\n"
      ]
    },
    {
      "cell_type": "code",
      "source": [
        "#stock_markets = []\n",
        "for row in table.find_all(\"tr\")[1:]:\n",
        "    cols = row.find_all(\"td\")\n",
        "    if len(cols) >= 1:  # 確保列數足夠，避免錯誤\n",
        "        market_data = cols[0].text.strip()\n",
        "        stock_markets.append(market_data)\n",
        "\n",
        "print(stock_markets)\n",
        "print(len(stock_markets))"
      ],
      "metadata": {
        "colab": {
          "base_uri": "https://localhost:8080/"
        },
        "id": "hLHsRkZ0KImh",
        "outputId": "13eb24d5-3468-4a82-a923-ed0fdcf04da2"
      },
      "execution_count": 204,
      "outputs": [
        {
          "output_type": "stream",
          "name": "stdout",
          "text": [
            "['股市', '紐西蘭', '澳洲', '日經225', '東證股價', '東證100', '東證500', '東證1000', '韓國', '台灣加權', '台灣店頭', '台灣50', '上海綜合', '上海A股', '上海B股', '深圳A股', '深圳B股', '滬深300', '深證成指', '中小板指', '創業板指', '富時中國 A50', '香港恆生', '香港國企', '香港紅籌', '恆生科技', '香港創業板', '越南', '印度', '印尼', '菲律賓', '馬來西亞', '泰國', '新加坡']\n",
            "34\n"
          ]
        }
      ]
    },
    {
      "cell_type": "code",
      "source": [
        "#indices = []\n",
        "for row in table.find_all(\"tr\")[1:]:\n",
        "    cols = row.find_all(\"td\")\n",
        "    if len(cols) >= 1:  # 確保列數足夠，避免錯誤\n",
        "        index_data = cols[1].text.strip()\n",
        "        indices.append(index_data)\n",
        "\n",
        "print(indices)\n",
        "print(len(indices))\n"
      ],
      "metadata": {
        "colab": {
          "base_uri": "https://localhost:8080/"
        },
        "id": "6--_gh1b_bJz",
        "outputId": "9a311c7f-4011-4eed-d0e5-6df13300e261"
      },
      "execution_count": 205,
      "outputs": [
        {
          "output_type": "stream",
          "name": "stdout",
          "text": [
            "['指數', '11878.49', '7861.00', '38001.00', '2663.31', '1829.88', '2083.71', '2521.02', '2584.29', '20213.33', '250.33', '15839.53', '3071.38', '3219.94', '256.47', '1778.96', '1068.68', '3565.4', '9381.77', '5751.54', '1797.31', '12259.62', '16251.84', '5749.69', '3431.77', '3340.22', '15.89', '1193.01', '72943.68', '7163.11', '6450.04', '1540.42', '1366.94', '3154.69']\n",
            "34\n"
          ]
        }
      ]
    },
    {
      "cell_type": "code",
      "execution_count": 206,
      "metadata": {
        "colab": {
          "base_uri": "https://localhost:8080/"
        },
        "id": "OrpAoK4TznUw",
        "outputId": "83055542-4917-45f1-910a-d1897e1725d2"
      },
      "outputs": [
        {
          "output_type": "stream",
          "name": "stdout",
          "text": [
            "['最高', '11889.12', '7891.20', '38638.50', '2704.90', '1857.94', '2116.85', '2560.58', '2626.63', '-', '250.41', '15892.41', '3071.38', '3219.94', '256.48', '1778.96', '1068.68', '3565.94', '9381.77', '5751.54', '1797.55', '12266.31', '16316.69', '5776.56', '3438.55', '3374.51', '15.89', '1221.47', '73135.43', '7234.37', '6497.82', '1541.88', '1380.12', '3255.33']\n",
            "34\n"
          ]
        }
      ],
      "source": [
        "# 找到最高這一欄的資料\n",
        "#high_prices = []\n",
        "for row in table.find_all(\"tr\")[1:]:\n",
        "    cols = row.find_all(\"td\")\n",
        "    if len(cols) >= 4:  # 確保列數足夠，避免錯誤\n",
        "        high_price = cols[4].text.strip()\n",
        "        high_prices.append(high_price)\n",
        "\n",
        "print(high_prices)\n",
        "print(len(high_prices))\n",
        "\n"
      ]
    },
    {
      "cell_type": "code",
      "source": [
        "# 找到最低價格這一欄的資料\n",
        "#lowest_prices = []\n",
        "for row in table.find_all(\"tr\")[1:]:\n",
        "    cols = row.find_all(\"td\")\n",
        "    if len(cols) >= 5:  # 確保列數足夠，避免錯誤\n",
        "        lowest_price = cols[5].text.strip()\n",
        "        lowest_prices.append(lowest_price)\n",
        "\n",
        "print(lowest_prices)\n",
        "print(len(lowest_prices))\n",
        "\n",
        "\n"
      ],
      "metadata": {
        "colab": {
          "base_uri": "https://localhost:8080/"
        },
        "id": "4T8UCZRs7_zm",
        "outputId": "36c32009-4128-4cfb-e14f-77fa4001a7c7"
      },
      "execution_count": 207,
      "outputs": [
        {
          "output_type": "stream",
          "name": "stdout",
          "text": [
            "['最低', '11762.28', '7847.70', '37968.50', '2663.31', '1829.88', '2083.71', '2521.02', '2584.29', '-', '245.81', '15597.84', '3002.06', '3147.23', '252.15', '1712.84', '1059.83', '3498.03', '9148.82', '5613.85', '1759.51', '12078.18', '16155.83', '5714.17', '3404.88', '3306.29', '15.5', '1193.01', '72685.03', '7159.68', '6424.81', '1532.95', '1363.44', '3154.69']\n",
            "34\n"
          ]
        }
      ]
    },
    {
      "cell_type": "code",
      "source": [
        "print(len(stock_markets))\n",
        "print(len(indices))\n",
        "print(len(high_prices))\n",
        "print(len(lowest_prices))\n"
      ],
      "metadata": {
        "colab": {
          "base_uri": "https://localhost:8080/"
        },
        "id": "TzgX7TOFPZ2u",
        "outputId": "9ad53e9f-73d0-4e71-f805-679168f59e92"
      },
      "execution_count": 208,
      "outputs": [
        {
          "output_type": "stream",
          "name": "stdout",
          "text": [
            "34\n",
            "34\n",
            "34\n",
            "34\n"
          ]
        }
      ]
    },
    {
      "cell_type": "code",
      "source": [
        "stock_markets.pop(0)\n",
        "indices.pop(0)\n",
        "high_prices.pop(0)\n",
        "lowest_prices.pop(0)"
      ],
      "metadata": {
        "colab": {
          "base_uri": "https://localhost:8080/",
          "height": 35
        },
        "id": "dQ-o-eYxSiWX",
        "outputId": "1f256293-c48f-4373-ed16-1bf8b4503a5e"
      },
      "execution_count": 209,
      "outputs": [
        {
          "output_type": "execute_result",
          "data": {
            "text/plain": [
              "'最低'"
            ],
            "application/vnd.google.colaboratory.intrinsic+json": {
              "type": "string"
            }
          },
          "metadata": {},
          "execution_count": 209
        }
      ]
    },
    {
      "cell_type": "code",
      "source": [
        "df = pd.DataFrame(data)\n",
        "\n",
        "df.index = [str(i) for i in range(1, 34)]\n",
        "df.columns = [\"Stock_market\", \"Index\", \"Highest\",\"lowest\"]  #欄位名稱\n",
        "\n",
        "print(df)\n",
        "# 將 DataFrame 輸出為 CSV 文件\n",
        "df.to_csv('data.csv', index=False)\n",
        "# 將 DataFrame 輸出為 JSON 文件\n",
        "df.to_json('data.json', orient='records')"
      ],
      "metadata": {
        "colab": {
          "base_uri": "https://localhost:8080/"
        },
        "id": "FbCKxWB2IGEx",
        "outputId": "f28f7711-a7db-494f-aa03-56577a5c543b"
      },
      "execution_count": 210,
      "outputs": [
        {
          "output_type": "stream",
          "name": "stdout",
          "text": [
            "   Stock_market     Index   Highest    lowest\n",
            "1           紐西蘭  11878.49  11889.12  11762.28\n",
            "2            澳洲   7861.00   7891.20   7847.70\n",
            "3         日經225  38001.00  38638.50  37968.50\n",
            "4          東證股價   2663.31   2704.90   2663.31\n",
            "5         東證100   1829.88   1857.94   1829.88\n",
            "6         東證500   2083.71   2116.85   2083.71\n",
            "7        東證1000   2521.02   2560.58   2521.02\n",
            "8            韓國   2584.29   2626.63   2584.29\n",
            "9          台灣加權  20213.33         -         -\n",
            "10         台灣店頭    250.33    250.41    245.81\n",
            "11         台灣50  15839.53  15892.41  15597.84\n",
            "12         上海綜合   3071.38   3071.38   3002.06\n",
            "13         上海A股   3219.94   3219.94   3147.23\n",
            "14         上海B股    256.47    256.48    252.15\n",
            "15         深圳A股   1778.96   1778.96   1712.84\n",
            "16         深圳B股   1068.68   1068.68   1059.83\n",
            "17        滬深300    3565.4   3565.94   3498.03\n",
            "18         深證成指   9381.77   9381.77   9148.82\n",
            "19         中小板指   5751.54   5751.54   5613.85\n",
            "20         創業板指   1797.31   1797.55   1759.51\n",
            "21     富時中國 A50  12259.62  12266.31  12078.18\n",
            "22         香港恆生  16251.84  16316.69  16155.83\n",
            "23         香港國企   5749.69   5776.56   5714.17\n",
            "24         香港紅籌   3431.77   3438.55   3404.88\n",
            "25         恆生科技   3340.22   3374.51   3306.29\n",
            "26        香港創業板     15.89     15.89      15.5\n",
            "27           越南   1193.01   1221.47   1193.01\n",
            "28           印度  72943.68  73135.43  72685.03\n",
            "29           印尼   7163.11   7234.37   7159.68\n",
            "30          菲律賓   6450.04   6497.82   6424.81\n",
            "31         馬來西亞   1540.42   1541.88   1532.95\n",
            "32           泰國   1366.94   1380.12   1363.44\n",
            "33          新加坡   3154.69   3255.33   3154.69\n"
          ]
        }
      ]
    },
    {
      "cell_type": "code",
      "execution_count": null,
      "metadata": {
        "id": "lLmphPSTPmVK"
      },
      "outputs": [],
      "source": [
        "#table = soup.find(\"table\", {\"class\": \"marketdatatable\"}) # 找到表格"
      ]
    },
    {
      "cell_type": "code",
      "execution_count": null,
      "metadata": {
        "id": "5Bk7dd_8TQgv"
      },
      "outputs": [],
      "source": [
        "#data = []\n",
        "#rows = table.find_all(\"tr\")\n",
        "#for row in rows:\n",
        "    #cols = row.find_all([\"th\", \"td\"])\n",
        "    #cols = [col.text.strip() for col in cols]\n",
        "    #data.append(cols)\n",
        "# 從表格中擷取資料"
      ]
    },
    {
      "cell_type": "code",
      "execution_count": null,
      "metadata": {
        "id": "gUxcEbzITadl"
      },
      "outputs": [],
      "source": [
        "#header = data[0]\n",
        "#data = data[1:]\n",
        "# 移除表頭"
      ]
    },
    {
      "cell_type": "code",
      "execution_count": null,
      "metadata": {
        "id": "y1fnhH6hTgb_"
      },
      "outputs": [],
      "source": [
        "# 將資料轉換為 DataFrame\n",
        "#df = pd.DataFrame(data, columns=header)\n",
        "\n",
        "# 進行資料清洗，例如移除不需要的欄位或處理缺失值等\n",
        "# 只保留股票名稱和價格欄位\n",
        "#df_cleaned = df[['股票名稱', '最新價']].copy()\n",
        "\n",
        "# 輸出 CSV\n",
        "#df_cleaned.to_csv(\"stock_data.csv\", index=False)\n",
        "\n",
        "# 輸出 JSON\n",
        "#json_data = df_cleaned.to_json(orient='records')\n",
        "#with open(\"stock_data.json\", \"w\") as json_file:\n",
        "    #json_file.write(json_data)"
      ]
    }
  ],
  "metadata": {
    "colab": {
      "provenance": []
    },
    "kernelspec": {
      "display_name": "Python 3",
      "name": "python3"
    },
    "language_info": {
      "name": "python"
    }
  },
  "nbformat": 4,
  "nbformat_minor": 0
}